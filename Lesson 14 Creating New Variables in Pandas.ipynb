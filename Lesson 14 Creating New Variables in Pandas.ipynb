{
 "cells": [
  {
   "cell_type": "markdown",
   "metadata": {},
   "source": [
    "**SA463A &#x25aa; Data Wrangling and Visualization &#x25aa; Fall 2020 &#x25aa; Foraker and Uhan**"
   ]
  },
  {
   "cell_type": "markdown",
   "metadata": {},
   "source": [
    "# Lesson 14. Creating New Variables in Pandas"
   ]
  },
  {
   "cell_type": "markdown",
   "metadata": {},
   "source": [
    "## In this lesson..."
   ]
  },
  {
   "cell_type": "markdown",
   "metadata": {},
   "source": [
    "- More ways to create new variables in Pandas"
   ]
  },
  {
   "cell_type": "markdown",
   "metadata": {},
   "source": [
    "<hr style=\"border-top: 2px solid gray; margin-top: 1px; margin-bottom: 1px\"></hr>"
   ]
  },
  {
   "cell_type": "markdown",
   "metadata": {},
   "source": [
    "## Setup"
   ]
  },
  {
   "cell_type": "markdown",
   "metadata": {},
   "source": [
    "* Let's start by importing Pandas:"
   ]
  },
  {
   "cell_type": "code",
   "execution_count": 1,
   "metadata": {},
   "outputs": [],
   "source": [
    "import pandas as pd"
   ]
  },
  {
   "cell_type": "markdown",
   "metadata": {},
   "source": [
    "* For this lesson, we'll use the toy dataset in `data/sample.csv` to illustrate how the different methods we'll learn about work"
   ]
  },
  {
   "cell_type": "code",
   "execution_count": 2,
   "metadata": {
    "scrolled": true
   },
   "outputs": [
    {
     "data": {
      "text/html": [
       "<div>\n",
       "<style scoped>\n",
       "    .dataframe tbody tr th:only-of-type {\n",
       "        vertical-align: middle;\n",
       "    }\n",
       "\n",
       "    .dataframe tbody tr th {\n",
       "        vertical-align: top;\n",
       "    }\n",
       "\n",
       "    .dataframe thead th {\n",
       "        text-align: right;\n",
       "    }\n",
       "</style>\n",
       "<table border=\"1\" class=\"dataframe\">\n",
       "  <thead>\n",
       "    <tr style=\"text-align: right;\">\n",
       "      <th></th>\n",
       "      <th>a</th>\n",
       "      <th>b</th>\n",
       "      <th>c</th>\n",
       "      <th>d</th>\n",
       "    </tr>\n",
       "  </thead>\n",
       "  <tbody>\n",
       "    <tr>\n",
       "      <th>0</th>\n",
       "      <td>5</td>\n",
       "      <td>8.389033</td>\n",
       "      <td>10</td>\n",
       "      <td>14.115655</td>\n",
       "    </tr>\n",
       "    <tr>\n",
       "      <th>1</th>\n",
       "      <td>3</td>\n",
       "      <td>9.586854</td>\n",
       "      <td>17</td>\n",
       "      <td>15.843354</td>\n",
       "    </tr>\n",
       "    <tr>\n",
       "      <th>2</th>\n",
       "      <td>2</td>\n",
       "      <td>5.110890</td>\n",
       "      <td>17</td>\n",
       "      <td>15.194550</td>\n",
       "    </tr>\n",
       "    <tr>\n",
       "      <th>3</th>\n",
       "      <td>7</td>\n",
       "      <td>7.578774</td>\n",
       "      <td>14</td>\n",
       "      <td>15.297023</td>\n",
       "    </tr>\n",
       "    <tr>\n",
       "      <th>4</th>\n",
       "      <td>4</td>\n",
       "      <td>1.602499</td>\n",
       "      <td>18</td>\n",
       "      <td>14.786111</td>\n",
       "    </tr>\n",
       "  </tbody>\n",
       "</table>\n",
       "</div>"
      ],
      "text/plain": [
       "   a         b   c          d\n",
       "0  5  8.389033  10  14.115655\n",
       "1  3  9.586854  17  15.843354\n",
       "2  2  5.110890  17  15.194550\n",
       "3  7  7.578774  14  15.297023\n",
       "4  4  1.602499  18  14.786111"
      ]
     },
     "execution_count": 2,
     "metadata": {},
     "output_type": "execute_result"
    }
   ],
   "source": [
    "df = pd.read_csv('data/sample.csv')\n",
    "df.head()"
   ]
  },
  {
   "cell_type": "markdown",
   "metadata": {},
   "source": [
    "<hr style=\"border-top: 2px solid gray; margin-top: 1px; margin-bottom: 1px\"></hr>"
   ]
  },
  {
   "cell_type": "markdown",
   "metadata": {},
   "source": [
    "## The assign method"
   ]
  },
  {
   "cell_type": "markdown",
   "metadata": {},
   "source": [
    "* In a previous lesson, we learned that we can create a new variable/column in a DataFrame by *direct assignment*, like this:"
   ]
  },
  {
   "cell_type": "code",
   "execution_count": 3,
   "metadata": {},
   "outputs": [
    {
     "data": {
      "text/html": [
       "<div>\n",
       "<style scoped>\n",
       "    .dataframe tbody tr th:only-of-type {\n",
       "        vertical-align: middle;\n",
       "    }\n",
       "\n",
       "    .dataframe tbody tr th {\n",
       "        vertical-align: top;\n",
       "    }\n",
       "\n",
       "    .dataframe thead th {\n",
       "        text-align: right;\n",
       "    }\n",
       "</style>\n",
       "<table border=\"1\" class=\"dataframe\">\n",
       "  <thead>\n",
       "    <tr style=\"text-align: right;\">\n",
       "      <th></th>\n",
       "      <th>a</th>\n",
       "      <th>b</th>\n",
       "      <th>c</th>\n",
       "      <th>d</th>\n",
       "      <th>e</th>\n",
       "    </tr>\n",
       "  </thead>\n",
       "  <tbody>\n",
       "    <tr>\n",
       "      <th>0</th>\n",
       "      <td>5</td>\n",
       "      <td>8.389033</td>\n",
       "      <td>10</td>\n",
       "      <td>14.115655</td>\n",
       "      <td>13.389033</td>\n",
       "    </tr>\n",
       "    <tr>\n",
       "      <th>1</th>\n",
       "      <td>3</td>\n",
       "      <td>9.586854</td>\n",
       "      <td>17</td>\n",
       "      <td>15.843354</td>\n",
       "      <td>12.586854</td>\n",
       "    </tr>\n",
       "    <tr>\n",
       "      <th>2</th>\n",
       "      <td>2</td>\n",
       "      <td>5.110890</td>\n",
       "      <td>17</td>\n",
       "      <td>15.194550</td>\n",
       "      <td>7.110890</td>\n",
       "    </tr>\n",
       "    <tr>\n",
       "      <th>3</th>\n",
       "      <td>7</td>\n",
       "      <td>7.578774</td>\n",
       "      <td>14</td>\n",
       "      <td>15.297023</td>\n",
       "      <td>14.578774</td>\n",
       "    </tr>\n",
       "    <tr>\n",
       "      <th>4</th>\n",
       "      <td>4</td>\n",
       "      <td>1.602499</td>\n",
       "      <td>18</td>\n",
       "      <td>14.786111</td>\n",
       "      <td>5.602499</td>\n",
       "    </tr>\n",
       "  </tbody>\n",
       "</table>\n",
       "</div>"
      ],
      "text/plain": [
       "   a         b   c          d          e\n",
       "0  5  8.389033  10  14.115655  13.389033\n",
       "1  3  9.586854  17  15.843354  12.586854\n",
       "2  2  5.110890  17  15.194550   7.110890\n",
       "3  7  7.578774  14  15.297023  14.578774\n",
       "4  4  1.602499  18  14.786111   5.602499"
      ]
     },
     "execution_count": 3,
     "metadata": {},
     "output_type": "execute_result"
    }
   ],
   "source": [
    "df['e'] = df['a'] + df['b']\n",
    "df.head()"
   ]
  },
  {
   "cell_type": "markdown",
   "metadata": {},
   "source": [
    "* Note that the direct assignment approach makes the changes *in place*; that is, `df` itself is modified"
   ]
  },
  {
   "cell_type": "markdown",
   "metadata": {},
   "source": [
    "- Here's another way to create a new variable/column in a DataFrame\n",
    "\n",
    "\n",
    "- Let's read in the data again and start from scratch:"
   ]
  },
  {
   "cell_type": "code",
   "execution_count": 4,
   "metadata": {},
   "outputs": [],
   "source": [
    "df = pd.read_csv('data/sample.csv')"
   ]
  },
  {
   "cell_type": "markdown",
   "metadata": {},
   "source": [
    "- First, we create a function that takes a DataFrame as input, and outputs the sum of columns `a` and `b` of the DataFrame, like this:"
   ]
  },
  {
   "cell_type": "code",
   "execution_count": null,
   "metadata": {},
   "outputs": [],
   "source": []
  },
  {
   "cell_type": "code",
   "execution_count": 5,
   "metadata": {},
   "outputs": [],
   "source": [
    "# Solution\n",
    "def add_a_and_b(x):\n",
    "    '''\n",
    "    Adds columns 'a' and 'b' in the input DataFrame x\n",
    "    '''\n",
    "    return x['a'] + x['b']"
   ]
  },
  {
   "cell_type": "markdown",
   "metadata": {},
   "source": [
    "- Second, we use the `df.assign()` method to create the new variable\n",
    "    - Each keyword argument `key=function` creates a new variable called `key` equal to the output of `function(df)`\n",
    "    \n",
    "\n",
    "- So, to create a new variable `e` that is equal to the sum of columns `a` and `b`, we can do this:"
   ]
  },
  {
   "cell_type": "code",
   "execution_count": 6,
   "metadata": {},
   "outputs": [
    {
     "data": {
      "text/html": [
       "<div>\n",
       "<style scoped>\n",
       "    .dataframe tbody tr th:only-of-type {\n",
       "        vertical-align: middle;\n",
       "    }\n",
       "\n",
       "    .dataframe tbody tr th {\n",
       "        vertical-align: top;\n",
       "    }\n",
       "\n",
       "    .dataframe thead th {\n",
       "        text-align: right;\n",
       "    }\n",
       "</style>\n",
       "<table border=\"1\" class=\"dataframe\">\n",
       "  <thead>\n",
       "    <tr style=\"text-align: right;\">\n",
       "      <th></th>\n",
       "      <th>a</th>\n",
       "      <th>b</th>\n",
       "      <th>c</th>\n",
       "      <th>d</th>\n",
       "      <th>e</th>\n",
       "    </tr>\n",
       "  </thead>\n",
       "  <tbody>\n",
       "    <tr>\n",
       "      <th>0</th>\n",
       "      <td>5</td>\n",
       "      <td>8.389033</td>\n",
       "      <td>10</td>\n",
       "      <td>14.115655</td>\n",
       "      <td>13.389033</td>\n",
       "    </tr>\n",
       "    <tr>\n",
       "      <th>1</th>\n",
       "      <td>3</td>\n",
       "      <td>9.586854</td>\n",
       "      <td>17</td>\n",
       "      <td>15.843354</td>\n",
       "      <td>12.586854</td>\n",
       "    </tr>\n",
       "    <tr>\n",
       "      <th>2</th>\n",
       "      <td>2</td>\n",
       "      <td>5.110890</td>\n",
       "      <td>17</td>\n",
       "      <td>15.194550</td>\n",
       "      <td>7.110890</td>\n",
       "    </tr>\n",
       "    <tr>\n",
       "      <th>3</th>\n",
       "      <td>7</td>\n",
       "      <td>7.578774</td>\n",
       "      <td>14</td>\n",
       "      <td>15.297023</td>\n",
       "      <td>14.578774</td>\n",
       "    </tr>\n",
       "    <tr>\n",
       "      <th>4</th>\n",
       "      <td>4</td>\n",
       "      <td>1.602499</td>\n",
       "      <td>18</td>\n",
       "      <td>14.786111</td>\n",
       "      <td>5.602499</td>\n",
       "    </tr>\n",
       "  </tbody>\n",
       "</table>\n",
       "</div>"
      ],
      "text/plain": [
       "   a         b   c          d          e\n",
       "0  5  8.389033  10  14.115655  13.389033\n",
       "1  3  9.586854  17  15.843354  12.586854\n",
       "2  2  5.110890  17  15.194550   7.110890\n",
       "3  7  7.578774  14  15.297023  14.578774\n",
       "4  4  1.602499  18  14.786111   5.602499"
      ]
     },
     "execution_count": 6,
     "metadata": {},
     "output_type": "execute_result"
    }
   ],
   "source": [
    "df.assign(\n",
    "    e=add_a_and_b\n",
    ")"
   ]
  },
  {
   "cell_type": "markdown",
   "metadata": {},
   "source": [
    "* Note that `assign()` *returns a new DataFrame*\n",
    "    - It does not make the changes in place, like the direct assignment approach above\n",
    "    \n",
    "\n",
    "* If we inspect the contents of `df` now, we see:"
   ]
  },
  {
   "cell_type": "code",
   "execution_count": 7,
   "metadata": {},
   "outputs": [
    {
     "data": {
      "text/html": [
       "<div>\n",
       "<style scoped>\n",
       "    .dataframe tbody tr th:only-of-type {\n",
       "        vertical-align: middle;\n",
       "    }\n",
       "\n",
       "    .dataframe tbody tr th {\n",
       "        vertical-align: top;\n",
       "    }\n",
       "\n",
       "    .dataframe thead th {\n",
       "        text-align: right;\n",
       "    }\n",
       "</style>\n",
       "<table border=\"1\" class=\"dataframe\">\n",
       "  <thead>\n",
       "    <tr style=\"text-align: right;\">\n",
       "      <th></th>\n",
       "      <th>a</th>\n",
       "      <th>b</th>\n",
       "      <th>c</th>\n",
       "      <th>d</th>\n",
       "    </tr>\n",
       "  </thead>\n",
       "  <tbody>\n",
       "    <tr>\n",
       "      <th>0</th>\n",
       "      <td>5</td>\n",
       "      <td>8.389033</td>\n",
       "      <td>10</td>\n",
       "      <td>14.115655</td>\n",
       "    </tr>\n",
       "    <tr>\n",
       "      <th>1</th>\n",
       "      <td>3</td>\n",
       "      <td>9.586854</td>\n",
       "      <td>17</td>\n",
       "      <td>15.843354</td>\n",
       "    </tr>\n",
       "    <tr>\n",
       "      <th>2</th>\n",
       "      <td>2</td>\n",
       "      <td>5.110890</td>\n",
       "      <td>17</td>\n",
       "      <td>15.194550</td>\n",
       "    </tr>\n",
       "    <tr>\n",
       "      <th>3</th>\n",
       "      <td>7</td>\n",
       "      <td>7.578774</td>\n",
       "      <td>14</td>\n",
       "      <td>15.297023</td>\n",
       "    </tr>\n",
       "    <tr>\n",
       "      <th>4</th>\n",
       "      <td>4</td>\n",
       "      <td>1.602499</td>\n",
       "      <td>18</td>\n",
       "      <td>14.786111</td>\n",
       "    </tr>\n",
       "  </tbody>\n",
       "</table>\n",
       "</div>"
      ],
      "text/plain": [
       "   a         b   c          d\n",
       "0  5  8.389033  10  14.115655\n",
       "1  3  9.586854  17  15.843354\n",
       "2  2  5.110890  17  15.194550\n",
       "3  7  7.578774  14  15.297023\n",
       "4  4  1.602499  18  14.786111"
      ]
     },
     "execution_count": 7,
     "metadata": {},
     "output_type": "execute_result"
    }
   ],
   "source": [
    "df"
   ]
  },
  {
   "cell_type": "markdown",
   "metadata": {},
   "source": [
    "* Now... creating a separate function to perform the operation we want can be tiresome\n",
    "\n",
    "\n",
    "* Instead, we can use a **lambda function**:"
   ]
  },
  {
   "cell_type": "code",
   "execution_count": null,
   "metadata": {},
   "outputs": [],
   "source": []
  },
  {
   "cell_type": "code",
   "execution_count": 8,
   "metadata": {
    "scrolled": true
   },
   "outputs": [
    {
     "data": {
      "text/html": [
       "<div>\n",
       "<style scoped>\n",
       "    .dataframe tbody tr th:only-of-type {\n",
       "        vertical-align: middle;\n",
       "    }\n",
       "\n",
       "    .dataframe tbody tr th {\n",
       "        vertical-align: top;\n",
       "    }\n",
       "\n",
       "    .dataframe thead th {\n",
       "        text-align: right;\n",
       "    }\n",
       "</style>\n",
       "<table border=\"1\" class=\"dataframe\">\n",
       "  <thead>\n",
       "    <tr style=\"text-align: right;\">\n",
       "      <th></th>\n",
       "      <th>a</th>\n",
       "      <th>b</th>\n",
       "      <th>c</th>\n",
       "      <th>d</th>\n",
       "      <th>e</th>\n",
       "    </tr>\n",
       "  </thead>\n",
       "  <tbody>\n",
       "    <tr>\n",
       "      <th>0</th>\n",
       "      <td>5</td>\n",
       "      <td>8.389033</td>\n",
       "      <td>10</td>\n",
       "      <td>14.115655</td>\n",
       "      <td>13.389033</td>\n",
       "    </tr>\n",
       "    <tr>\n",
       "      <th>1</th>\n",
       "      <td>3</td>\n",
       "      <td>9.586854</td>\n",
       "      <td>17</td>\n",
       "      <td>15.843354</td>\n",
       "      <td>12.586854</td>\n",
       "    </tr>\n",
       "    <tr>\n",
       "      <th>2</th>\n",
       "      <td>2</td>\n",
       "      <td>5.110890</td>\n",
       "      <td>17</td>\n",
       "      <td>15.194550</td>\n",
       "      <td>7.110890</td>\n",
       "    </tr>\n",
       "    <tr>\n",
       "      <th>3</th>\n",
       "      <td>7</td>\n",
       "      <td>7.578774</td>\n",
       "      <td>14</td>\n",
       "      <td>15.297023</td>\n",
       "      <td>14.578774</td>\n",
       "    </tr>\n",
       "    <tr>\n",
       "      <th>4</th>\n",
       "      <td>4</td>\n",
       "      <td>1.602499</td>\n",
       "      <td>18</td>\n",
       "      <td>14.786111</td>\n",
       "      <td>5.602499</td>\n",
       "    </tr>\n",
       "  </tbody>\n",
       "</table>\n",
       "</div>"
      ],
      "text/plain": [
       "   a         b   c          d          e\n",
       "0  5  8.389033  10  14.115655  13.389033\n",
       "1  3  9.586854  17  15.843354  12.586854\n",
       "2  2  5.110890  17  15.194550   7.110890\n",
       "3  7  7.578774  14  15.297023  14.578774\n",
       "4  4  1.602499  18  14.786111   5.602499"
      ]
     },
     "execution_count": 8,
     "metadata": {},
     "output_type": "execute_result"
    }
   ],
   "source": [
    "# Solution\n",
    "df.assign(\n",
    "    e=lambda x: x['a'] + x['b']\n",
    ")"
   ]
  },
  {
   "cell_type": "markdown",
   "metadata": {},
   "source": [
    "- The lambda function\n",
    "    \n",
    "    ```python\n",
    "    lambda x: x['a'] + x['b']\n",
    "    ```\n",
    "    \n",
    "    takes `x` as input, and outputs `x['a'] + x['b']`, just as we defined in the function `add_a_and_b`\n",
    "    \n",
    "    \n",
    "- We can even create multiple variables in a single call of `assign()`, like this:"
   ]
  },
  {
   "cell_type": "code",
   "execution_count": null,
   "metadata": {},
   "outputs": [],
   "source": []
  },
  {
   "cell_type": "code",
   "execution_count": 9,
   "metadata": {},
   "outputs": [
    {
     "data": {
      "text/html": [
       "<div>\n",
       "<style scoped>\n",
       "    .dataframe tbody tr th:only-of-type {\n",
       "        vertical-align: middle;\n",
       "    }\n",
       "\n",
       "    .dataframe tbody tr th {\n",
       "        vertical-align: top;\n",
       "    }\n",
       "\n",
       "    .dataframe thead th {\n",
       "        text-align: right;\n",
       "    }\n",
       "</style>\n",
       "<table border=\"1\" class=\"dataframe\">\n",
       "  <thead>\n",
       "    <tr style=\"text-align: right;\">\n",
       "      <th></th>\n",
       "      <th>a</th>\n",
       "      <th>b</th>\n",
       "      <th>c</th>\n",
       "      <th>d</th>\n",
       "      <th>e</th>\n",
       "      <th>f</th>\n",
       "    </tr>\n",
       "  </thead>\n",
       "  <tbody>\n",
       "    <tr>\n",
       "      <th>0</th>\n",
       "      <td>5</td>\n",
       "      <td>8.389033</td>\n",
       "      <td>10</td>\n",
       "      <td>14.115655</td>\n",
       "      <td>13.389033</td>\n",
       "      <td>133.890326</td>\n",
       "    </tr>\n",
       "    <tr>\n",
       "      <th>1</th>\n",
       "      <td>3</td>\n",
       "      <td>9.586854</td>\n",
       "      <td>17</td>\n",
       "      <td>15.843354</td>\n",
       "      <td>12.586854</td>\n",
       "      <td>213.976518</td>\n",
       "    </tr>\n",
       "    <tr>\n",
       "      <th>2</th>\n",
       "      <td>2</td>\n",
       "      <td>5.110890</td>\n",
       "      <td>17</td>\n",
       "      <td>15.194550</td>\n",
       "      <td>7.110890</td>\n",
       "      <td>120.885130</td>\n",
       "    </tr>\n",
       "    <tr>\n",
       "      <th>3</th>\n",
       "      <td>7</td>\n",
       "      <td>7.578774</td>\n",
       "      <td>14</td>\n",
       "      <td>15.297023</td>\n",
       "      <td>14.578774</td>\n",
       "      <td>204.102841</td>\n",
       "    </tr>\n",
       "    <tr>\n",
       "      <th>4</th>\n",
       "      <td>4</td>\n",
       "      <td>1.602499</td>\n",
       "      <td>18</td>\n",
       "      <td>14.786111</td>\n",
       "      <td>5.602499</td>\n",
       "      <td>100.844988</td>\n",
       "    </tr>\n",
       "  </tbody>\n",
       "</table>\n",
       "</div>"
      ],
      "text/plain": [
       "   a         b   c          d          e           f\n",
       "0  5  8.389033  10  14.115655  13.389033  133.890326\n",
       "1  3  9.586854  17  15.843354  12.586854  213.976518\n",
       "2  2  5.110890  17  15.194550   7.110890  120.885130\n",
       "3  7  7.578774  14  15.297023  14.578774  204.102841\n",
       "4  4  1.602499  18  14.786111   5.602499  100.844988"
      ]
     },
     "execution_count": 9,
     "metadata": {},
     "output_type": "execute_result"
    }
   ],
   "source": [
    "# Solution\n",
    "df.assign(\n",
    "    e=lambda x: x['a'] + x['b'],\n",
    "    f=lambda x: x['c'] * x['e']\n",
    ")"
   ]
  },
  {
   "cell_type": "markdown",
   "metadata": {},
   "source": [
    "- In the example above, note that we can even refer to newly created columns within the same call of `assign()`"
   ]
  },
  {
   "cell_type": "markdown",
   "metadata": {},
   "source": [
    "- **Template for using the `assign()` method**\n",
    "\n",
    "    ```python\n",
    "    df.assign(\n",
    "        new_var_1=lambda x: ...,\n",
    "        new_var_2=lambda x: ...\n",
    "    )\n",
    "    ```\n",
    "\n",
    "    where `x` refers to the DataFrame `df`"
   ]
  },
  {
   "cell_type": "markdown",
   "metadata": {},
   "source": [
    "### Why use the assign method?"
   ]
  },
  {
   "cell_type": "markdown",
   "metadata": {},
   "source": [
    "- The direct assignment approach makes changes to the DataFrame in place, while `.assign()` returns a new DataFrame\n",
    "\n",
    "\n",
    "- As a result, the `.assign()` method supports method chaining, like this:"
   ]
  },
  {
   "cell_type": "code",
   "execution_count": 10,
   "metadata": {},
   "outputs": [
    {
     "data": {
      "text/html": [
       "<div>\n",
       "<style scoped>\n",
       "    .dataframe tbody tr th:only-of-type {\n",
       "        vertical-align: middle;\n",
       "    }\n",
       "\n",
       "    .dataframe tbody tr th {\n",
       "        vertical-align: top;\n",
       "    }\n",
       "\n",
       "    .dataframe thead th {\n",
       "        text-align: right;\n",
       "    }\n",
       "</style>\n",
       "<table border=\"1\" class=\"dataframe\">\n",
       "  <thead>\n",
       "    <tr style=\"text-align: right;\">\n",
       "      <th></th>\n",
       "      <th>a</th>\n",
       "      <th>b</th>\n",
       "      <th>c</th>\n",
       "      <th>d</th>\n",
       "      <th>e</th>\n",
       "    </tr>\n",
       "  </thead>\n",
       "  <tbody>\n",
       "    <tr>\n",
       "      <th>1</th>\n",
       "      <td>3</td>\n",
       "      <td>9.586854</td>\n",
       "      <td>17</td>\n",
       "      <td>15.843354</td>\n",
       "      <td>8.5</td>\n",
       "    </tr>\n",
       "    <tr>\n",
       "      <th>2</th>\n",
       "      <td>2</td>\n",
       "      <td>5.110890</td>\n",
       "      <td>17</td>\n",
       "      <td>15.194550</td>\n",
       "      <td>8.5</td>\n",
       "    </tr>\n",
       "    <tr>\n",
       "      <th>3</th>\n",
       "      <td>7</td>\n",
       "      <td>7.578774</td>\n",
       "      <td>14</td>\n",
       "      <td>15.297023</td>\n",
       "      <td>7.0</td>\n",
       "    </tr>\n",
       "    <tr>\n",
       "      <th>4</th>\n",
       "      <td>4</td>\n",
       "      <td>1.602499</td>\n",
       "      <td>18</td>\n",
       "      <td>14.786111</td>\n",
       "      <td>9.0</td>\n",
       "    </tr>\n",
       "  </tbody>\n",
       "</table>\n",
       "</div>"
      ],
      "text/plain": [
       "   a         b   c          d    e\n",
       "1  3  9.586854  17  15.843354  8.5\n",
       "2  2  5.110890  17  15.194550  8.5\n",
       "3  7  7.578774  14  15.297023  7.0\n",
       "4  4  1.602499  18  14.786111  9.0"
      ]
     },
     "execution_count": 10,
     "metadata": {},
     "output_type": "execute_result"
    }
   ],
   "source": [
    "(\n",
    "    df\n",
    "    .assign(e=lambda x: x['c'] / 2)\n",
    "    .query('e > 5')\n",
    ")"
   ]
  },
  {
   "cell_type": "markdown",
   "metadata": {},
   "source": [
    "- *Refactoring* is easier as well &mdash; as a comparison, think about changing the name of the DataFrame from `df` to `another_df` in these 2 cases:\n",
    "\n",
    "    ```python\n",
    "    df['f'] = df['a'] + df['b'] + df['c'] + df['d']\n",
    "    ```\n",
    "\n",
    "    ```python\n",
    "    df.assign(\n",
    "        f=lambda x: x['a'] + x['b'] + x['c'] + x['d']\n",
    "    )\n",
    "    ```"
   ]
  },
  {
   "cell_type": "markdown",
   "metadata": {},
   "source": [
    "<hr style=\"border-top: 2px solid gray; margin-top: 1px; margin-bottom: 1px\"></hr>"
   ]
  },
  {
   "cell_type": "markdown",
   "metadata": {},
   "source": [
    "## Useful Series and DataFrame methods for computations"
   ]
  },
  {
   "cell_type": "markdown",
   "metadata": {},
   "source": [
    "- Pandas has a myriad of built-in methods for various computations\n",
    "\n",
    "\n",
    "- In this lesson, we'll learn about some of the basic ones\n",
    "\n",
    "\n",
    "- To find the documentation for the Series and DataFrame methods covered in this section, [search the docs](https://pandas.pydata.org/pandas-docs/stable/index.html) for either\n",
    "    - `pandas.Series.method_name` or\n",
    "    - `pandas.DataFrame.method_name`"
   ]
  },
  {
   "cell_type": "markdown",
   "metadata": {},
   "source": [
    "### Element-wise methods"
   ]
  },
  {
   "cell_type": "markdown",
   "metadata": {},
   "source": [
    "* **Element-wise methods** perform the same computation on each element of a Series or DataFrame\n",
    "\n",
    "\n",
    "* One such example is the `round()` Series/DataFrame method\n",
    "\n",
    "\n",
    "* When applied to a Series, we get the values in the Series, rounded to the given number of decimals:"
   ]
  },
  {
   "cell_type": "code",
   "execution_count": null,
   "metadata": {},
   "outputs": [],
   "source": []
  },
  {
   "cell_type": "code",
   "execution_count": 11,
   "metadata": {},
   "outputs": [
    {
     "data": {
      "text/plain": [
       "0    14.12\n",
       "1    15.84\n",
       "2    15.19\n",
       "3    15.30\n",
       "4    14.79\n",
       "Name: d, dtype: float64"
      ]
     },
     "execution_count": 11,
     "metadata": {},
     "output_type": "execute_result"
    }
   ],
   "source": [
    "# Solution\n",
    "df['d'].round(2)"
   ]
  },
  {
   "cell_type": "markdown",
   "metadata": {},
   "source": [
    "* We can add a column to our DataFrame with these rounded values, like this:"
   ]
  },
  {
   "cell_type": "code",
   "execution_count": null,
   "metadata": {},
   "outputs": [],
   "source": []
  },
  {
   "cell_type": "code",
   "execution_count": 12,
   "metadata": {},
   "outputs": [
    {
     "data": {
      "text/html": [
       "<div>\n",
       "<style scoped>\n",
       "    .dataframe tbody tr th:only-of-type {\n",
       "        vertical-align: middle;\n",
       "    }\n",
       "\n",
       "    .dataframe tbody tr th {\n",
       "        vertical-align: top;\n",
       "    }\n",
       "\n",
       "    .dataframe thead th {\n",
       "        text-align: right;\n",
       "    }\n",
       "</style>\n",
       "<table border=\"1\" class=\"dataframe\">\n",
       "  <thead>\n",
       "    <tr style=\"text-align: right;\">\n",
       "      <th></th>\n",
       "      <th>a</th>\n",
       "      <th>b</th>\n",
       "      <th>c</th>\n",
       "      <th>d</th>\n",
       "      <th>d_rounded</th>\n",
       "    </tr>\n",
       "  </thead>\n",
       "  <tbody>\n",
       "    <tr>\n",
       "      <th>0</th>\n",
       "      <td>5</td>\n",
       "      <td>8.389033</td>\n",
       "      <td>10</td>\n",
       "      <td>14.115655</td>\n",
       "      <td>14.12</td>\n",
       "    </tr>\n",
       "    <tr>\n",
       "      <th>1</th>\n",
       "      <td>3</td>\n",
       "      <td>9.586854</td>\n",
       "      <td>17</td>\n",
       "      <td>15.843354</td>\n",
       "      <td>15.84</td>\n",
       "    </tr>\n",
       "    <tr>\n",
       "      <th>2</th>\n",
       "      <td>2</td>\n",
       "      <td>5.110890</td>\n",
       "      <td>17</td>\n",
       "      <td>15.194550</td>\n",
       "      <td>15.19</td>\n",
       "    </tr>\n",
       "    <tr>\n",
       "      <th>3</th>\n",
       "      <td>7</td>\n",
       "      <td>7.578774</td>\n",
       "      <td>14</td>\n",
       "      <td>15.297023</td>\n",
       "      <td>15.30</td>\n",
       "    </tr>\n",
       "    <tr>\n",
       "      <th>4</th>\n",
       "      <td>4</td>\n",
       "      <td>1.602499</td>\n",
       "      <td>18</td>\n",
       "      <td>14.786111</td>\n",
       "      <td>14.79</td>\n",
       "    </tr>\n",
       "  </tbody>\n",
       "</table>\n",
       "</div>"
      ],
      "text/plain": [
       "   a         b   c          d  d_rounded\n",
       "0  5  8.389033  10  14.115655      14.12\n",
       "1  3  9.586854  17  15.843354      15.84\n",
       "2  2  5.110890  17  15.194550      15.19\n",
       "3  7  7.578774  14  15.297023      15.30\n",
       "4  4  1.602499  18  14.786111      14.79"
      ]
     },
     "execution_count": 12,
     "metadata": {},
     "output_type": "execute_result"
    }
   ],
   "source": [
    "# Solution\n",
    "df.assign(\n",
    "    d_rounded=lambda x: x['d'].round(2)\n",
    ")"
   ]
  },
  {
   "cell_type": "markdown",
   "metadata": {},
   "source": [
    "* We can also apply `.round()` to the entire DataFrame:"
   ]
  },
  {
   "cell_type": "code",
   "execution_count": null,
   "metadata": {},
   "outputs": [],
   "source": []
  },
  {
   "cell_type": "code",
   "execution_count": 13,
   "metadata": {},
   "outputs": [
    {
     "data": {
      "text/html": [
       "<div>\n",
       "<style scoped>\n",
       "    .dataframe tbody tr th:only-of-type {\n",
       "        vertical-align: middle;\n",
       "    }\n",
       "\n",
       "    .dataframe tbody tr th {\n",
       "        vertical-align: top;\n",
       "    }\n",
       "\n",
       "    .dataframe thead th {\n",
       "        text-align: right;\n",
       "    }\n",
       "</style>\n",
       "<table border=\"1\" class=\"dataframe\">\n",
       "  <thead>\n",
       "    <tr style=\"text-align: right;\">\n",
       "      <th></th>\n",
       "      <th>a</th>\n",
       "      <th>b</th>\n",
       "      <th>c</th>\n",
       "      <th>d</th>\n",
       "    </tr>\n",
       "  </thead>\n",
       "  <tbody>\n",
       "    <tr>\n",
       "      <th>0</th>\n",
       "      <td>5</td>\n",
       "      <td>8.4</td>\n",
       "      <td>10</td>\n",
       "      <td>14.1</td>\n",
       "    </tr>\n",
       "    <tr>\n",
       "      <th>1</th>\n",
       "      <td>3</td>\n",
       "      <td>9.6</td>\n",
       "      <td>17</td>\n",
       "      <td>15.8</td>\n",
       "    </tr>\n",
       "    <tr>\n",
       "      <th>2</th>\n",
       "      <td>2</td>\n",
       "      <td>5.1</td>\n",
       "      <td>17</td>\n",
       "      <td>15.2</td>\n",
       "    </tr>\n",
       "    <tr>\n",
       "      <th>3</th>\n",
       "      <td>7</td>\n",
       "      <td>7.6</td>\n",
       "      <td>14</td>\n",
       "      <td>15.3</td>\n",
       "    </tr>\n",
       "    <tr>\n",
       "      <th>4</th>\n",
       "      <td>4</td>\n",
       "      <td>1.6</td>\n",
       "      <td>18</td>\n",
       "      <td>14.8</td>\n",
       "    </tr>\n",
       "  </tbody>\n",
       "</table>\n",
       "</div>"
      ],
      "text/plain": [
       "   a    b   c     d\n",
       "0  5  8.4  10  14.1\n",
       "1  3  9.6  17  15.8\n",
       "2  2  5.1  17  15.2\n",
       "3  7  7.6  14  15.3\n",
       "4  4  1.6  18  14.8"
      ]
     },
     "execution_count": 13,
     "metadata": {},
     "output_type": "execute_result"
    }
   ],
   "source": [
    "# Solution\n",
    "df.round(1)"
   ]
  },
  {
   "cell_type": "markdown",
   "metadata": {},
   "source": [
    "- A few mathematical element-wise methods in Pandas:\n",
    "\n",
    "| Method | Description |\n",
    "| :- | :- |\n",
    "| `round()` | Round values to given number of decimal places | \n",
    "| `abs()` | Absolute values |\n",
    "\n",
    "\n",
    "- For more complex element-wise mathematical computations, you can use the appropriate [NumPy](https://numpy.org/) functions\n",
    "\n",
    "\n",
    "- For example, we can compute the cosine of the values in column `b` like this:"
   ]
  },
  {
   "cell_type": "code",
   "execution_count": 14,
   "metadata": {
    "scrolled": true
   },
   "outputs": [
    {
     "data": {
      "text/html": [
       "<div>\n",
       "<style scoped>\n",
       "    .dataframe tbody tr th:only-of-type {\n",
       "        vertical-align: middle;\n",
       "    }\n",
       "\n",
       "    .dataframe tbody tr th {\n",
       "        vertical-align: top;\n",
       "    }\n",
       "\n",
       "    .dataframe thead th {\n",
       "        text-align: right;\n",
       "    }\n",
       "</style>\n",
       "<table border=\"1\" class=\"dataframe\">\n",
       "  <thead>\n",
       "    <tr style=\"text-align: right;\">\n",
       "      <th></th>\n",
       "      <th>a</th>\n",
       "      <th>b</th>\n",
       "      <th>c</th>\n",
       "      <th>d</th>\n",
       "      <th>cos_b</th>\n",
       "    </tr>\n",
       "  </thead>\n",
       "  <tbody>\n",
       "    <tr>\n",
       "      <th>0</th>\n",
       "      <td>5</td>\n",
       "      <td>8.389033</td>\n",
       "      <td>10</td>\n",
       "      <td>14.115655</td>\n",
       "      <td>-0.509885</td>\n",
       "    </tr>\n",
       "    <tr>\n",
       "      <th>1</th>\n",
       "      <td>3</td>\n",
       "      <td>9.586854</td>\n",
       "      <td>17</td>\n",
       "      <td>15.843354</td>\n",
       "      <td>-0.986894</td>\n",
       "    </tr>\n",
       "    <tr>\n",
       "      <th>2</th>\n",
       "      <td>2</td>\n",
       "      <td>5.110890</td>\n",
       "      <td>17</td>\n",
       "      <td>15.194550</td>\n",
       "      <td>0.388037</td>\n",
       "    </tr>\n",
       "    <tr>\n",
       "      <th>3</th>\n",
       "      <td>7</td>\n",
       "      <td>7.578774</td>\n",
       "      <td>14</td>\n",
       "      <td>15.297023</td>\n",
       "      <td>0.271746</td>\n",
       "    </tr>\n",
       "    <tr>\n",
       "      <th>4</th>\n",
       "      <td>4</td>\n",
       "      <td>1.602499</td>\n",
       "      <td>18</td>\n",
       "      <td>14.786111</td>\n",
       "      <td>-0.031698</td>\n",
       "    </tr>\n",
       "  </tbody>\n",
       "</table>\n",
       "</div>"
      ],
      "text/plain": [
       "   a         b   c          d     cos_b\n",
       "0  5  8.389033  10  14.115655 -0.509885\n",
       "1  3  9.586854  17  15.843354 -0.986894\n",
       "2  2  5.110890  17  15.194550  0.388037\n",
       "3  7  7.578774  14  15.297023  0.271746\n",
       "4  4  1.602499  18  14.786111 -0.031698"
      ]
     },
     "execution_count": 14,
     "metadata": {},
     "output_type": "execute_result"
    }
   ],
   "source": [
    "# Import Numpy\n",
    "import numpy as np\n",
    "\n",
    "# Create a new variable with the cosine of the values in column 'b'\n",
    "df.assign(\n",
    "    cos_b=lambda x: np.cos(x['b'])\n",
    ")"
   ]
  },
  {
   "cell_type": "markdown",
   "metadata": {},
   "source": [
    "- [List of NumPy mathematical functions](https://numpy.org/doc/stable/reference/routines.math.html)"
   ]
  },
  {
   "cell_type": "markdown",
   "metadata": {},
   "source": [
    "### Reduction methods"
   ]
  },
  {
   "cell_type": "markdown",
   "metadata": {},
   "source": [
    "- **Reduction methods** either\n",
    "    - map a Series to a single value, or\n",
    "    - map the rows or columns of a DataFrame to a Series\n",
    "    \n",
    "    \n",
    "- One such example is the `sum()` Series/DataFrame method\n",
    "\n",
    "\n",
    "- When applied to a Series, we get the sum of the values in the Series:"
   ]
  },
  {
   "cell_type": "code",
   "execution_count": null,
   "metadata": {},
   "outputs": [],
   "source": []
  },
  {
   "cell_type": "code",
   "execution_count": 15,
   "metadata": {},
   "outputs": [
    {
     "data": {
      "text/plain": [
       "32.268050202"
      ]
     },
     "execution_count": 15,
     "metadata": {},
     "output_type": "execute_result"
    }
   ],
   "source": [
    "# Solution\n",
    "df['b'].sum()"
   ]
  },
  {
   "cell_type": "markdown",
   "metadata": {},
   "source": [
    "- By default, when applied to a DataFrame, `sum()` returns a Series containing sums *across the rows*, or within each column:"
   ]
  },
  {
   "cell_type": "code",
   "execution_count": 16,
   "metadata": {},
   "outputs": [
    {
     "data": {
      "text/plain": [
       "a    21.000000\n",
       "b    32.268050\n",
       "c    76.000000\n",
       "d    75.236694\n",
       "dtype: float64"
      ]
     },
     "execution_count": 16,
     "metadata": {},
     "output_type": "execute_result"
    }
   ],
   "source": [
    "df.sum()\n",
    "# df.sum(axis='rows') returns the same thing"
   ]
  },
  {
   "cell_type": "markdown",
   "metadata": {},
   "source": [
    "- To sum *across the columns* instead, we can use the `axis='columns'` keyword:"
   ]
  },
  {
   "cell_type": "code",
   "execution_count": null,
   "metadata": {},
   "outputs": [],
   "source": []
  },
  {
   "cell_type": "code",
   "execution_count": 17,
   "metadata": {},
   "outputs": [
    {
     "data": {
      "text/plain": [
       "0    37.504688\n",
       "1    45.430208\n",
       "2    39.305440\n",
       "3    43.875797\n",
       "4    38.388611\n",
       "dtype: float64"
      ]
     },
     "execution_count": 17,
     "metadata": {},
     "output_type": "execute_result"
    }
   ],
   "source": [
    "# Solution\n",
    "df.sum(axis='columns')"
   ]
  },
  {
   "cell_type": "markdown",
   "metadata": {},
   "source": [
    "- We can select a subset of columns first, and then sum across the columns, like this:"
   ]
  },
  {
   "cell_type": "code",
   "execution_count": null,
   "metadata": {},
   "outputs": [],
   "source": []
  },
  {
   "cell_type": "code",
   "execution_count": 18,
   "metadata": {},
   "outputs": [
    {
     "data": {
      "text/plain": [
       "0    29.115655\n",
       "1    35.843354\n",
       "2    34.194550\n",
       "3    36.297023\n",
       "4    36.786111\n",
       "dtype: float64"
      ]
     },
     "execution_count": 18,
     "metadata": {},
     "output_type": "execute_result"
    }
   ],
   "source": [
    "# Solution\n",
    "df[['a', 'c', 'd']].sum(axis='columns')"
   ]
  },
  {
   "cell_type": "markdown",
   "metadata": {},
   "source": [
    "* We can add a column to our DataFrame with this sum, like this:"
   ]
  },
  {
   "cell_type": "code",
   "execution_count": null,
   "metadata": {},
   "outputs": [],
   "source": []
  },
  {
   "cell_type": "code",
   "execution_count": 19,
   "metadata": {},
   "outputs": [
    {
     "data": {
      "text/html": [
       "<div>\n",
       "<style scoped>\n",
       "    .dataframe tbody tr th:only-of-type {\n",
       "        vertical-align: middle;\n",
       "    }\n",
       "\n",
       "    .dataframe tbody tr th {\n",
       "        vertical-align: top;\n",
       "    }\n",
       "\n",
       "    .dataframe thead th {\n",
       "        text-align: right;\n",
       "    }\n",
       "</style>\n",
       "<table border=\"1\" class=\"dataframe\">\n",
       "  <thead>\n",
       "    <tr style=\"text-align: right;\">\n",
       "      <th></th>\n",
       "      <th>a</th>\n",
       "      <th>b</th>\n",
       "      <th>c</th>\n",
       "      <th>d</th>\n",
       "      <th>total_no_b</th>\n",
       "    </tr>\n",
       "  </thead>\n",
       "  <tbody>\n",
       "    <tr>\n",
       "      <th>0</th>\n",
       "      <td>5</td>\n",
       "      <td>8.389033</td>\n",
       "      <td>10</td>\n",
       "      <td>14.115655</td>\n",
       "      <td>29.115655</td>\n",
       "    </tr>\n",
       "    <tr>\n",
       "      <th>1</th>\n",
       "      <td>3</td>\n",
       "      <td>9.586854</td>\n",
       "      <td>17</td>\n",
       "      <td>15.843354</td>\n",
       "      <td>35.843354</td>\n",
       "    </tr>\n",
       "    <tr>\n",
       "      <th>2</th>\n",
       "      <td>2</td>\n",
       "      <td>5.110890</td>\n",
       "      <td>17</td>\n",
       "      <td>15.194550</td>\n",
       "      <td>34.194550</td>\n",
       "    </tr>\n",
       "    <tr>\n",
       "      <th>3</th>\n",
       "      <td>7</td>\n",
       "      <td>7.578774</td>\n",
       "      <td>14</td>\n",
       "      <td>15.297023</td>\n",
       "      <td>36.297023</td>\n",
       "    </tr>\n",
       "    <tr>\n",
       "      <th>4</th>\n",
       "      <td>4</td>\n",
       "      <td>1.602499</td>\n",
       "      <td>18</td>\n",
       "      <td>14.786111</td>\n",
       "      <td>36.786111</td>\n",
       "    </tr>\n",
       "  </tbody>\n",
       "</table>\n",
       "</div>"
      ],
      "text/plain": [
       "   a         b   c          d  total_no_b\n",
       "0  5  8.389033  10  14.115655   29.115655\n",
       "1  3  9.586854  17  15.843354   35.843354\n",
       "2  2  5.110890  17  15.194550   34.194550\n",
       "3  7  7.578774  14  15.297023   36.297023\n",
       "4  4  1.602499  18  14.786111   36.786111"
      ]
     },
     "execution_count": 19,
     "metadata": {},
     "output_type": "execute_result"
    }
   ],
   "source": [
    "# Solution\n",
    "df.assign(\n",
    "    total_no_b=lambda x: x[['a', 'c', 'd']].sum(axis='columns')\n",
    ")"
   ]
  },
  {
   "cell_type": "markdown",
   "metadata": {},
   "source": [
    "*Food for thought.* What happens when you use the code above, but with `axis='rows'` instead? Why does this happen?"
   ]
  },
  {
   "cell_type": "markdown",
   "metadata": {},
   "source": [
    "- Here are some useful reduction methods:\n",
    "\n",
    "    \n",
    "| Method | Description |\n",
    "| :- | :- |\n",
    "| `count()` | Number of non-NA values |\n",
    "| `min()`, `max()` | Compute minimum and maximum values |\n",
    "| `quantile()` | Compute sample quantile ranging from 0 to 1 |\n",
    "| `sum()` | Sum of values |\n",
    "| `mean()` | Mean of values |\n",
    "| `median()` | Median of values |\n",
    "| `mad()` | Mean absolute deviation from mean value |\n",
    "| `prod()` | Product of all values |\n",
    "| `var()` | Sample variance of values |\n",
    "| `std()` | Sample standard deivation of values |\n",
    "\n",
    "\n",
    "- All the methods above use the `axis=...` keyword argument in the same way"
   ]
  },
  {
   "cell_type": "markdown",
   "metadata": {},
   "source": [
    "### \"Same size\" methods"
   ]
  },
  {
   "cell_type": "markdown",
   "metadata": {},
   "source": [
    "* There are other methods that\n",
    "    - take a row or column of values\n",
    "    - perform computations on these values *as a group* (not element-wise)\n",
    "    - return a row or column of values *of the same size*\n",
    "\n",
    "\n",
    "* For example, we can obtain the cumulative sum of values across the columns, like this:"
   ]
  },
  {
   "cell_type": "code",
   "execution_count": null,
   "metadata": {},
   "outputs": [],
   "source": []
  },
  {
   "cell_type": "code",
   "execution_count": 20,
   "metadata": {},
   "outputs": [
    {
     "data": {
      "text/html": [
       "<div>\n",
       "<style scoped>\n",
       "    .dataframe tbody tr th:only-of-type {\n",
       "        vertical-align: middle;\n",
       "    }\n",
       "\n",
       "    .dataframe tbody tr th {\n",
       "        vertical-align: top;\n",
       "    }\n",
       "\n",
       "    .dataframe thead th {\n",
       "        text-align: right;\n",
       "    }\n",
       "</style>\n",
       "<table border=\"1\" class=\"dataframe\">\n",
       "  <thead>\n",
       "    <tr style=\"text-align: right;\">\n",
       "      <th></th>\n",
       "      <th>a</th>\n",
       "      <th>b</th>\n",
       "      <th>c</th>\n",
       "      <th>d</th>\n",
       "    </tr>\n",
       "  </thead>\n",
       "  <tbody>\n",
       "    <tr>\n",
       "      <th>0</th>\n",
       "      <td>5.0</td>\n",
       "      <td>13.389033</td>\n",
       "      <td>23.389033</td>\n",
       "      <td>37.504688</td>\n",
       "    </tr>\n",
       "    <tr>\n",
       "      <th>1</th>\n",
       "      <td>3.0</td>\n",
       "      <td>12.586854</td>\n",
       "      <td>29.586854</td>\n",
       "      <td>45.430208</td>\n",
       "    </tr>\n",
       "    <tr>\n",
       "      <th>2</th>\n",
       "      <td>2.0</td>\n",
       "      <td>7.110890</td>\n",
       "      <td>24.110890</td>\n",
       "      <td>39.305440</td>\n",
       "    </tr>\n",
       "    <tr>\n",
       "      <th>3</th>\n",
       "      <td>7.0</td>\n",
       "      <td>14.578774</td>\n",
       "      <td>28.578774</td>\n",
       "      <td>43.875797</td>\n",
       "    </tr>\n",
       "    <tr>\n",
       "      <th>4</th>\n",
       "      <td>4.0</td>\n",
       "      <td>5.602499</td>\n",
       "      <td>23.602499</td>\n",
       "      <td>38.388611</td>\n",
       "    </tr>\n",
       "  </tbody>\n",
       "</table>\n",
       "</div>"
      ],
      "text/plain": [
       "     a          b          c          d\n",
       "0  5.0  13.389033  23.389033  37.504688\n",
       "1  3.0  12.586854  29.586854  45.430208\n",
       "2  2.0   7.110890  24.110890  39.305440\n",
       "3  7.0  14.578774  28.578774  43.875797\n",
       "4  4.0   5.602499  23.602499  38.388611"
      ]
     },
     "execution_count": 20,
     "metadata": {},
     "output_type": "execute_result"
    }
   ],
   "source": [
    "# Solution\n",
    "df.cumsum(axis='columns')"
   ]
  },
  {
   "cell_type": "markdown",
   "metadata": {},
   "source": [
    "* We can also obtain the cumulative sum of values across the rows of a column, like this:"
   ]
  },
  {
   "cell_type": "code",
   "execution_count": null,
   "metadata": {},
   "outputs": [],
   "source": []
  },
  {
   "cell_type": "code",
   "execution_count": 21,
   "metadata": {},
   "outputs": [
    {
     "data": {
      "text/plain": [
       "0    10\n",
       "1    27\n",
       "2    44\n",
       "3    58\n",
       "4    76\n",
       "Name: c, dtype: int64"
      ]
     },
     "execution_count": 21,
     "metadata": {},
     "output_type": "execute_result"
    }
   ],
   "source": [
    "# Solution\n",
    "df['c'].cumsum()"
   ]
  },
  {
   "cell_type": "markdown",
   "metadata": {},
   "source": [
    "* As we have done above, we can add this cumulative sum of values for column `c` as a new column of our DataFrame, like this:"
   ]
  },
  {
   "cell_type": "code",
   "execution_count": null,
   "metadata": {},
   "outputs": [],
   "source": []
  },
  {
   "cell_type": "code",
   "execution_count": 22,
   "metadata": {},
   "outputs": [
    {
     "data": {
      "text/html": [
       "<div>\n",
       "<style scoped>\n",
       "    .dataframe tbody tr th:only-of-type {\n",
       "        vertical-align: middle;\n",
       "    }\n",
       "\n",
       "    .dataframe tbody tr th {\n",
       "        vertical-align: top;\n",
       "    }\n",
       "\n",
       "    .dataframe thead th {\n",
       "        text-align: right;\n",
       "    }\n",
       "</style>\n",
       "<table border=\"1\" class=\"dataframe\">\n",
       "  <thead>\n",
       "    <tr style=\"text-align: right;\">\n",
       "      <th></th>\n",
       "      <th>a</th>\n",
       "      <th>b</th>\n",
       "      <th>c</th>\n",
       "      <th>d</th>\n",
       "      <th>c_cumsum</th>\n",
       "    </tr>\n",
       "  </thead>\n",
       "  <tbody>\n",
       "    <tr>\n",
       "      <th>0</th>\n",
       "      <td>5</td>\n",
       "      <td>8.389033</td>\n",
       "      <td>10</td>\n",
       "      <td>14.115655</td>\n",
       "      <td>10</td>\n",
       "    </tr>\n",
       "    <tr>\n",
       "      <th>1</th>\n",
       "      <td>3</td>\n",
       "      <td>9.586854</td>\n",
       "      <td>17</td>\n",
       "      <td>15.843354</td>\n",
       "      <td>27</td>\n",
       "    </tr>\n",
       "    <tr>\n",
       "      <th>2</th>\n",
       "      <td>2</td>\n",
       "      <td>5.110890</td>\n",
       "      <td>17</td>\n",
       "      <td>15.194550</td>\n",
       "      <td>44</td>\n",
       "    </tr>\n",
       "    <tr>\n",
       "      <th>3</th>\n",
       "      <td>7</td>\n",
       "      <td>7.578774</td>\n",
       "      <td>14</td>\n",
       "      <td>15.297023</td>\n",
       "      <td>58</td>\n",
       "    </tr>\n",
       "    <tr>\n",
       "      <th>4</th>\n",
       "      <td>4</td>\n",
       "      <td>1.602499</td>\n",
       "      <td>18</td>\n",
       "      <td>14.786111</td>\n",
       "      <td>76</td>\n",
       "    </tr>\n",
       "  </tbody>\n",
       "</table>\n",
       "</div>"
      ],
      "text/plain": [
       "   a         b   c          d  c_cumsum\n",
       "0  5  8.389033  10  14.115655        10\n",
       "1  3  9.586854  17  15.843354        27\n",
       "2  2  5.110890  17  15.194550        44\n",
       "3  7  7.578774  14  15.297023        58\n",
       "4  4  1.602499  18  14.786111        76"
      ]
     },
     "execution_count": 22,
     "metadata": {},
     "output_type": "execute_result"
    }
   ],
   "source": [
    "# Solution\n",
    "df.assign(\n",
    "    c_cumsum=lambda x: x['c'].cumsum()\n",
    ")"
   ]
  },
  {
   "cell_type": "markdown",
   "metadata": {},
   "source": [
    "* Here are some methods that behave similarly &mdash; takes a row or column of values, performs a computation on these values as a group, and then returns a row or column of values of the same size:\n",
    "\n",
    "| Method | Description |\n",
    "| :- | :- |\n",
    "| `cumsum()` | Cumulative sum of values |\n",
    "| `cummin()`, `cummax()` | Cumulative minimum and maximum of values |\n",
    "| `cumprod()` | Cumulative product of values |\n",
    "| `diff()` | Compute difference between consecutive rows/columns |\n",
    "| `pct_change()` | Compute percent changes between consecutive rows/columns |\n",
    "| `rank()` | Compute numerical ranks | \n",
    "\n",
    "\n",
    "* Some of these methods take optional keyword arguments that change what they compute &mdash; take a look at the documentation for details"
   ]
  },
  {
   "cell_type": "markdown",
   "metadata": {},
   "source": [
    "<hr style=\"border-top: 2px solid gray; margin-top: 1px; margin-bottom: 1px\"></hr>"
   ]
  },
  {
   "cell_type": "markdown",
   "metadata": {},
   "source": [
    "## Problems"
   ]
  },
  {
   "cell_type": "markdown",
   "metadata": {},
   "source": [
    "**Problem 0.**\n",
    "The following problems are based on the same CSV file `data/grades.csv` used for the problems in Lesson 11. The file is located in the same folder as this notebook. Read the CSV file into a DataFrame. Display the top 5 rows of the DataFrame."
   ]
  },
  {
   "cell_type": "code",
   "execution_count": null,
   "metadata": {},
   "outputs": [],
   "source": []
  },
  {
   "cell_type": "code",
   "execution_count": 23,
   "metadata": {},
   "outputs": [
    {
     "data": {
      "text/html": [
       "<div>\n",
       "<style scoped>\n",
       "    .dataframe tbody tr th:only-of-type {\n",
       "        vertical-align: middle;\n",
       "    }\n",
       "\n",
       "    .dataframe tbody tr th {\n",
       "        vertical-align: top;\n",
       "    }\n",
       "\n",
       "    .dataframe thead th {\n",
       "        text-align: right;\n",
       "    }\n",
       "</style>\n",
       "<table border=\"1\" class=\"dataframe\">\n",
       "  <thead>\n",
       "    <tr style=\"text-align: right;\">\n",
       "      <th></th>\n",
       "      <th>student_id</th>\n",
       "      <th>lastname</th>\n",
       "      <th>firstname</th>\n",
       "      <th>quiz1</th>\n",
       "      <th>quiz2</th>\n",
       "      <th>quiz3</th>\n",
       "      <th>quiz4</th>\n",
       "      <th>exam1</th>\n",
       "      <th>exam2</th>\n",
       "    </tr>\n",
       "  </thead>\n",
       "  <tbody>\n",
       "    <tr>\n",
       "      <th>0</th>\n",
       "      <td>2603</td>\n",
       "      <td>Conway</td>\n",
       "      <td>Romeo</td>\n",
       "      <td>19</td>\n",
       "      <td>29</td>\n",
       "      <td>20</td>\n",
       "      <td>30</td>\n",
       "      <td>87</td>\n",
       "      <td>50</td>\n",
       "    </tr>\n",
       "    <tr>\n",
       "      <th>1</th>\n",
       "      <td>6435</td>\n",
       "      <td>Livingston</td>\n",
       "      <td>Naseem</td>\n",
       "      <td>17</td>\n",
       "      <td>16</td>\n",
       "      <td>14</td>\n",
       "      <td>25</td>\n",
       "      <td>55</td>\n",
       "      <td>83</td>\n",
       "    </tr>\n",
       "    <tr>\n",
       "      <th>2</th>\n",
       "      <td>6754</td>\n",
       "      <td>Clark</td>\n",
       "      <td>Remy</td>\n",
       "      <td>15</td>\n",
       "      <td>30</td>\n",
       "      <td>11</td>\n",
       "      <td>24</td>\n",
       "      <td>60</td>\n",
       "      <td>95</td>\n",
       "    </tr>\n",
       "    <tr>\n",
       "      <th>3</th>\n",
       "      <td>3032</td>\n",
       "      <td>Carpenter</td>\n",
       "      <td>Zubair</td>\n",
       "      <td>16</td>\n",
       "      <td>13</td>\n",
       "      <td>18</td>\n",
       "      <td>14</td>\n",
       "      <td>91</td>\n",
       "      <td>71</td>\n",
       "    </tr>\n",
       "    <tr>\n",
       "      <th>4</th>\n",
       "      <td>2715</td>\n",
       "      <td>Guerra</td>\n",
       "      <td>Samantha</td>\n",
       "      <td>13</td>\n",
       "      <td>15</td>\n",
       "      <td>17</td>\n",
       "      <td>28</td>\n",
       "      <td>48</td>\n",
       "      <td>98</td>\n",
       "    </tr>\n",
       "  </tbody>\n",
       "</table>\n",
       "</div>"
      ],
      "text/plain": [
       "   student_id    lastname firstname  quiz1  quiz2  quiz3  quiz4  exam1  exam2\n",
       "0        2603      Conway     Romeo     19     29     20     30     87     50\n",
       "1        6435  Livingston    Naseem     17     16     14     25     55     83\n",
       "2        6754       Clark      Remy     15     30     11     24     60     95\n",
       "3        3032   Carpenter    Zubair     16     13     18     14     91     71\n",
       "4        2715      Guerra  Samantha     13     15     17     28     48     98"
      ]
     },
     "execution_count": 23,
     "metadata": {},
     "output_type": "execute_result"
    }
   ],
   "source": [
    "# Solution\n",
    "grades_df = pd.read_csv('data/grades.csv')\n",
    "grades_df.head()"
   ]
  },
  {
   "cell_type": "markdown",
   "metadata": {},
   "source": [
    "**Problem 1.**\n",
    "Find the minimum, maximum, and median quiz and exam grades. Write your code so that the student IDs and names are *not* included in the output.\n",
    "\n",
    "*Hint.* Use the `drop()` DataFrame method."
   ]
  },
  {
   "cell_type": "code",
   "execution_count": null,
   "metadata": {},
   "outputs": [],
   "source": []
  },
  {
   "cell_type": "code",
   "execution_count": 24,
   "metadata": {},
   "outputs": [
    {
     "data": {
      "text/plain": [
       "quiz1    10\n",
       "quiz2    11\n",
       "quiz3    10\n",
       "quiz4    10\n",
       "exam1    41\n",
       "exam2    44\n",
       "dtype: int64"
      ]
     },
     "execution_count": 24,
     "metadata": {},
     "output_type": "execute_result"
    }
   ],
   "source": [
    "# Solution\n",
    "grades_df.drop(\n",
    "    columns=['student_id', 'lastname', 'firstname']\n",
    ").min()"
   ]
  },
  {
   "cell_type": "code",
   "execution_count": 25,
   "metadata": {},
   "outputs": [
    {
     "data": {
      "text/plain": [
       "quiz1    20\n",
       "quiz2    30\n",
       "quiz3    20\n",
       "quiz4    30\n",
       "exam1    99\n",
       "exam2    99\n",
       "dtype: int64"
      ]
     },
     "execution_count": 25,
     "metadata": {},
     "output_type": "execute_result"
    }
   ],
   "source": [
    "grades_df.drop(\n",
    "    columns=['student_id', 'lastname', 'firstname']\n",
    ").max()"
   ]
  },
  {
   "cell_type": "code",
   "execution_count": 26,
   "metadata": {},
   "outputs": [
    {
     "data": {
      "text/plain": [
       "quiz1    14.0\n",
       "quiz2    20.0\n",
       "quiz3    16.0\n",
       "quiz4    19.0\n",
       "exam1    72.0\n",
       "exam2    73.0\n",
       "dtype: float64"
      ]
     },
     "execution_count": 26,
     "metadata": {},
     "output_type": "execute_result"
    }
   ],
   "source": [
    "grades_df.drop(\n",
    "    columns=['student_id', 'lastname', 'firstname']\n",
    ").median()"
   ]
  },
  {
   "cell_type": "markdown",
   "metadata": {},
   "source": [
    "**Problem 2.**\n",
    "\n",
    "Create a new DataFrame based on the one you created in Problem 0:\n",
    "\n",
    "- Compute each student's quiz grades as a percentage (fraction between 0 and 1). The maximum score on Quizzes 1 and 3 is 20 points; the maximum score on Quizzes 2 and 4 is 30 points. Add 4 columns, one for each quiz as a percentage.\n",
    "\n",
    "\n",
    "- Compute each student's exam grades as a percentage. The maximum score on each exam is 100 points. Add 2 columns, one for each exam as a percentage.\n",
    "\n",
    "\n",
    "- For each student, compute the average of their quiz percentage grades. Add a column containing the quiz averages.\n",
    "\n",
    "\n",
    "- For each student, compute the average of their exam percentage grades. Add a column containing the exam averages.\n",
    "\n",
    "\n",
    "- Compute each student's course grade as a weighted average of each student's quiz average and exam average: quizzes are worth 35\\%, exams are worth 65\\%. Add a column containing the course grade.\n",
    "\n",
    "\n",
    "Do this using a *single* call to `assign()`, and use as many of the Series/DataFrame methods described above (e.g. `sum()`, `mean()`, etc.). \n",
    "\n",
    "Check your work by displaying the top 5 rows of the DataFrame. You should find that Romeo Conway has a course grade of about 78.8%, Naseem Livingston has a course grade of 70.4%, and Remy Clark has a course grade of 77.5%."
   ]
  },
  {
   "cell_type": "code",
   "execution_count": null,
   "metadata": {},
   "outputs": [],
   "source": []
  },
  {
   "cell_type": "code",
   "execution_count": 27,
   "metadata": {
    "scrolled": true
   },
   "outputs": [
    {
     "data": {
      "text/html": [
       "<div>\n",
       "<style scoped>\n",
       "    .dataframe tbody tr th:only-of-type {\n",
       "        vertical-align: middle;\n",
       "    }\n",
       "\n",
       "    .dataframe tbody tr th {\n",
       "        vertical-align: top;\n",
       "    }\n",
       "\n",
       "    .dataframe thead th {\n",
       "        text-align: right;\n",
       "    }\n",
       "</style>\n",
       "<table border=\"1\" class=\"dataframe\">\n",
       "  <thead>\n",
       "    <tr style=\"text-align: right;\">\n",
       "      <th></th>\n",
       "      <th>student_id</th>\n",
       "      <th>lastname</th>\n",
       "      <th>firstname</th>\n",
       "      <th>quiz1</th>\n",
       "      <th>quiz2</th>\n",
       "      <th>quiz3</th>\n",
       "      <th>quiz4</th>\n",
       "      <th>exam1</th>\n",
       "      <th>exam2</th>\n",
       "      <th>quiz1_pct</th>\n",
       "      <th>quiz2_pct</th>\n",
       "      <th>quiz3_pct</th>\n",
       "      <th>quiz4_pct</th>\n",
       "      <th>exam1_pct</th>\n",
       "      <th>exam2_pct</th>\n",
       "      <th>quiz_avg</th>\n",
       "      <th>exam_avg</th>\n",
       "      <th>course_grade</th>\n",
       "    </tr>\n",
       "  </thead>\n",
       "  <tbody>\n",
       "    <tr>\n",
       "      <th>0</th>\n",
       "      <td>2603</td>\n",
       "      <td>Conway</td>\n",
       "      <td>Romeo</td>\n",
       "      <td>19</td>\n",
       "      <td>29</td>\n",
       "      <td>20</td>\n",
       "      <td>30</td>\n",
       "      <td>87</td>\n",
       "      <td>50</td>\n",
       "      <td>0.95</td>\n",
       "      <td>0.966667</td>\n",
       "      <td>1.00</td>\n",
       "      <td>1.000000</td>\n",
       "      <td>0.87</td>\n",
       "      <td>0.50</td>\n",
       "      <td>0.979167</td>\n",
       "      <td>0.685</td>\n",
       "      <td>0.787958</td>\n",
       "    </tr>\n",
       "    <tr>\n",
       "      <th>1</th>\n",
       "      <td>6435</td>\n",
       "      <td>Livingston</td>\n",
       "      <td>Naseem</td>\n",
       "      <td>17</td>\n",
       "      <td>16</td>\n",
       "      <td>14</td>\n",
       "      <td>25</td>\n",
       "      <td>55</td>\n",
       "      <td>83</td>\n",
       "      <td>0.85</td>\n",
       "      <td>0.533333</td>\n",
       "      <td>0.70</td>\n",
       "      <td>0.833333</td>\n",
       "      <td>0.55</td>\n",
       "      <td>0.83</td>\n",
       "      <td>0.729167</td>\n",
       "      <td>0.690</td>\n",
       "      <td>0.703708</td>\n",
       "    </tr>\n",
       "    <tr>\n",
       "      <th>2</th>\n",
       "      <td>6754</td>\n",
       "      <td>Clark</td>\n",
       "      <td>Remy</td>\n",
       "      <td>15</td>\n",
       "      <td>30</td>\n",
       "      <td>11</td>\n",
       "      <td>24</td>\n",
       "      <td>60</td>\n",
       "      <td>95</td>\n",
       "      <td>0.75</td>\n",
       "      <td>1.000000</td>\n",
       "      <td>0.55</td>\n",
       "      <td>0.800000</td>\n",
       "      <td>0.60</td>\n",
       "      <td>0.95</td>\n",
       "      <td>0.775000</td>\n",
       "      <td>0.775</td>\n",
       "      <td>0.775000</td>\n",
       "    </tr>\n",
       "    <tr>\n",
       "      <th>3</th>\n",
       "      <td>3032</td>\n",
       "      <td>Carpenter</td>\n",
       "      <td>Zubair</td>\n",
       "      <td>16</td>\n",
       "      <td>13</td>\n",
       "      <td>18</td>\n",
       "      <td>14</td>\n",
       "      <td>91</td>\n",
       "      <td>71</td>\n",
       "      <td>0.80</td>\n",
       "      <td>0.433333</td>\n",
       "      <td>0.90</td>\n",
       "      <td>0.466667</td>\n",
       "      <td>0.91</td>\n",
       "      <td>0.71</td>\n",
       "      <td>0.650000</td>\n",
       "      <td>0.810</td>\n",
       "      <td>0.754000</td>\n",
       "    </tr>\n",
       "    <tr>\n",
       "      <th>4</th>\n",
       "      <td>2715</td>\n",
       "      <td>Guerra</td>\n",
       "      <td>Samantha</td>\n",
       "      <td>13</td>\n",
       "      <td>15</td>\n",
       "      <td>17</td>\n",
       "      <td>28</td>\n",
       "      <td>48</td>\n",
       "      <td>98</td>\n",
       "      <td>0.65</td>\n",
       "      <td>0.500000</td>\n",
       "      <td>0.85</td>\n",
       "      <td>0.933333</td>\n",
       "      <td>0.48</td>\n",
       "      <td>0.98</td>\n",
       "      <td>0.733333</td>\n",
       "      <td>0.730</td>\n",
       "      <td>0.731167</td>\n",
       "    </tr>\n",
       "  </tbody>\n",
       "</table>\n",
       "</div>"
      ],
      "text/plain": [
       "   student_id    lastname firstname  quiz1  quiz2  quiz3  quiz4  exam1  exam2  \\\n",
       "0        2603      Conway     Romeo     19     29     20     30     87     50   \n",
       "1        6435  Livingston    Naseem     17     16     14     25     55     83   \n",
       "2        6754       Clark      Remy     15     30     11     24     60     95   \n",
       "3        3032   Carpenter    Zubair     16     13     18     14     91     71   \n",
       "4        2715      Guerra  Samantha     13     15     17     28     48     98   \n",
       "\n",
       "   quiz1_pct  quiz2_pct  quiz3_pct  quiz4_pct  exam1_pct  exam2_pct  quiz_avg  \\\n",
       "0       0.95   0.966667       1.00   1.000000       0.87       0.50  0.979167   \n",
       "1       0.85   0.533333       0.70   0.833333       0.55       0.83  0.729167   \n",
       "2       0.75   1.000000       0.55   0.800000       0.60       0.95  0.775000   \n",
       "3       0.80   0.433333       0.90   0.466667       0.91       0.71  0.650000   \n",
       "4       0.65   0.500000       0.85   0.933333       0.48       0.98  0.733333   \n",
       "\n",
       "   exam_avg  course_grade  \n",
       "0     0.685      0.787958  \n",
       "1     0.690      0.703708  \n",
       "2     0.775      0.775000  \n",
       "3     0.810      0.754000  \n",
       "4     0.730      0.731167  "
      ]
     },
     "execution_count": 27,
     "metadata": {},
     "output_type": "execute_result"
    }
   ],
   "source": [
    "# Solution\n",
    "grades_df = grades_df.assign(\n",
    "    quiz1_pct=lambda x: x['quiz1'] / 20,\n",
    "    quiz2_pct=lambda x: x['quiz2'] / 30,\n",
    "    quiz3_pct=lambda x: x['quiz3'] / 20,\n",
    "    quiz4_pct=lambda x: x['quiz4'] / 30,\n",
    "    exam1_pct=lambda x: x['exam1'] / 100,\n",
    "    exam2_pct=lambda x: x['exam2'] / 100,\n",
    "    quiz_avg=lambda x: x[['quiz1_pct', 'quiz2_pct', 'quiz3_pct', 'quiz4_pct']].mean(axis='columns'),\n",
    "    exam_avg=lambda x: x[['exam1_pct', 'exam2_pct']].mean(axis='columns'),\n",
    "    course_grade=lambda x: 0.35 * x['quiz_avg'] + 0.65 * x['exam_avg']\n",
    ")\n",
    "\n",
    "grades_df.head()"
   ]
  },
  {
   "cell_type": "markdown",
   "metadata": {},
   "source": [
    "**Problem 3.**\n",
    "Create a new DataFrame based on the one you created in Problem 2. In particular, add a new column containing the rank of each student based on their course grade. The student with the highest course grade should have a rank 1. Your new DataFrame should *only* contain the student ID, last name and first name, course grade, and rank. The first 5 rows of your new DataFrame should look like this:\n",
    "\n",
    "<table border=\"1\" class=\"dataframe\">\n",
    "  <thead>\n",
    "    <tr style=\"text-align: right;\">\n",
    "      <th></th>\n",
    "      <th>student_id</th>\n",
    "      <th>lastname</th>\n",
    "      <th>firstname</th>\n",
    "      <th>course_grade</th>\n",
    "      <th>rank</th>\n",
    "    </tr>\n",
    "  </thead>\n",
    "  <tbody>\n",
    "    <tr>\n",
    "      <th>0</th>\n",
    "      <td>2603</td>\n",
    "      <td>Conway</td>\n",
    "      <td>Romeo</td>\n",
    "      <td>0.787958</td>\n",
    "      <td>8.0</td>\n",
    "    </tr>\n",
    "    <tr>\n",
    "      <th>1</th>\n",
    "      <td>6435</td>\n",
    "      <td>Livingston</td>\n",
    "      <td>Naseem</td>\n",
    "      <td>0.703708</td>\n",
    "      <td>30.0</td>\n",
    "    </tr>\n",
    "    <tr>\n",
    "      <th>2</th>\n",
    "      <td>6754</td>\n",
    "      <td>Clark</td>\n",
    "      <td>Remy</td>\n",
    "      <td>0.775000</td>\n",
    "      <td>10.0</td>\n",
    "    </tr>\n",
    "    <tr>\n",
    "      <th>3</th>\n",
    "      <td>3032</td>\n",
    "      <td>Carpenter</td>\n",
    "      <td>Zubair</td>\n",
    "      <td>0.754000</td>\n",
    "      <td>14.0</td>\n",
    "    </tr>\n",
    "    <tr>\n",
    "      <th>4</th>\n",
    "      <td>2715</td>\n",
    "      <td>Guerra</td>\n",
    "      <td>Samantha</td>\n",
    "      <td>0.731167</td>\n",
    "      <td>19.0</td>\n",
    "    </tr>\n",
    "  </tbody>\n",
    "</table>\n",
    "\n",
    "*Hint.* Read the documentation for `rank()`."
   ]
  },
  {
   "cell_type": "code",
   "execution_count": null,
   "metadata": {},
   "outputs": [],
   "source": []
  },
  {
   "cell_type": "code",
   "execution_count": 28,
   "metadata": {},
   "outputs": [
    {
     "data": {
      "text/html": [
       "<div>\n",
       "<style scoped>\n",
       "    .dataframe tbody tr th:only-of-type {\n",
       "        vertical-align: middle;\n",
       "    }\n",
       "\n",
       "    .dataframe tbody tr th {\n",
       "        vertical-align: top;\n",
       "    }\n",
       "\n",
       "    .dataframe thead th {\n",
       "        text-align: right;\n",
       "    }\n",
       "</style>\n",
       "<table border=\"1\" class=\"dataframe\">\n",
       "  <thead>\n",
       "    <tr style=\"text-align: right;\">\n",
       "      <th></th>\n",
       "      <th>student_id</th>\n",
       "      <th>lastname</th>\n",
       "      <th>firstname</th>\n",
       "      <th>course_grade</th>\n",
       "      <th>rank</th>\n",
       "    </tr>\n",
       "  </thead>\n",
       "  <tbody>\n",
       "    <tr>\n",
       "      <th>0</th>\n",
       "      <td>2603</td>\n",
       "      <td>Conway</td>\n",
       "      <td>Romeo</td>\n",
       "      <td>0.787958</td>\n",
       "      <td>8.0</td>\n",
       "    </tr>\n",
       "    <tr>\n",
       "      <th>1</th>\n",
       "      <td>6435</td>\n",
       "      <td>Livingston</td>\n",
       "      <td>Naseem</td>\n",
       "      <td>0.703708</td>\n",
       "      <td>30.0</td>\n",
       "    </tr>\n",
       "    <tr>\n",
       "      <th>2</th>\n",
       "      <td>6754</td>\n",
       "      <td>Clark</td>\n",
       "      <td>Remy</td>\n",
       "      <td>0.775000</td>\n",
       "      <td>10.0</td>\n",
       "    </tr>\n",
       "    <tr>\n",
       "      <th>3</th>\n",
       "      <td>3032</td>\n",
       "      <td>Carpenter</td>\n",
       "      <td>Zubair</td>\n",
       "      <td>0.754000</td>\n",
       "      <td>14.0</td>\n",
       "    </tr>\n",
       "    <tr>\n",
       "      <th>4</th>\n",
       "      <td>2715</td>\n",
       "      <td>Guerra</td>\n",
       "      <td>Samantha</td>\n",
       "      <td>0.731167</td>\n",
       "      <td>19.0</td>\n",
       "    </tr>\n",
       "  </tbody>\n",
       "</table>\n",
       "</div>"
      ],
      "text/plain": [
       "   student_id    lastname firstname  course_grade  rank\n",
       "0        2603      Conway     Romeo      0.787958   8.0\n",
       "1        6435  Livingston    Naseem      0.703708  30.0\n",
       "2        6754       Clark      Remy      0.775000  10.0\n",
       "3        3032   Carpenter    Zubair      0.754000  14.0\n",
       "4        2715      Guerra  Samantha      0.731167  19.0"
      ]
     },
     "execution_count": 28,
     "metadata": {},
     "output_type": "execute_result"
    }
   ],
   "source": [
    "# Solution\n",
    "ranked_df = (\n",
    "    grades_df\n",
    "    .assign(\n",
    "        rank=lambda x: x['course_grade'].rank(ascending=False)\n",
    "    )\n",
    "    [['student_id', 'lastname', 'firstname', 'course_grade', 'rank']]\n",
    ")\n",
    "\n",
    "ranked_df.head()"
   ]
  }
 ],
 "metadata": {
  "kernelspec": {
   "display_name": "Python 3",
   "language": "python",
   "name": "python3"
  },
  "language_info": {
   "codemirror_mode": {
    "name": "ipython",
    "version": 3
   },
   "file_extension": ".py",
   "mimetype": "text/x-python",
   "name": "python",
   "nbconvert_exporter": "python",
   "pygments_lexer": "ipython3",
   "version": "3.7.6"
  }
 },
 "nbformat": 4,
 "nbformat_minor": 4
}
